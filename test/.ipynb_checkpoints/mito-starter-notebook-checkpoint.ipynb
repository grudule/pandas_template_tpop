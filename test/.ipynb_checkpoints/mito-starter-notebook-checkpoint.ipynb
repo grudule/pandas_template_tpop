{
 "cells": [
  {
   "cell_type": "code",
   "execution_count": 5,
   "id": "c0957234-ba57-4199-adfa-9d17ede0b8f9",
   "metadata": {},
   "outputs": [
    {
     "ename": "Exception",
     "evalue": "The mitosheet currently only works in JupyterLab.\n\nTo see instructions on getting Mitosheet running in JupyterLab, find install instructions here: https://docs.trymito.io/getting-started/installing-mito",
     "output_type": "error",
     "traceback": [
      "\u001b[1;31m---------------------------------------------------------------------------\u001b[0m",
      "\u001b[1;31mException\u001b[0m                                 Traceback (most recent call last)",
      "\u001b[1;32md:\\drive\\OneDrive - Université Laval\\Cours laval\\2. Année 2\\H2023\\travaux pratique optique\\pandas_template_tpop\\mito-starter-notebook.ipynb Cell 1\u001b[0m in \u001b[0;36m<cell line: 6>\u001b[1;34m()\u001b[0m\n\u001b[0;32m      <a href='vscode-notebook-cell:/d%3A/drive/OneDrive%20-%20Universit%C3%A9%20Laval/Cours%20laval/2.%20Ann%C3%A9e%202/H2023/travaux%20pratique%20optique/pandas_template_tpop/mito-starter-notebook.ipynb#W0sZmlsZQ%3D%3D?line=0'>1</a>\u001b[0m \u001b[39m# Run this cell to render a mitosheet\u001b[39;00m\n\u001b[0;32m      <a href='vscode-notebook-cell:/d%3A/drive/OneDrive%20-%20Universit%C3%A9%20Laval/Cours%20laval/2.%20Ann%C3%A9e%202/H2023/travaux%20pratique%20optique/pandas_template_tpop/mito-starter-notebook.ipynb#W0sZmlsZQ%3D%3D?line=1'>2</a>\u001b[0m \u001b[39m# See mito's documentation here: https://docs.trymito.io/how-to/creating-a-mitosheet\u001b[39;00m\n\u001b[0;32m      <a href='vscode-notebook-cell:/d%3A/drive/OneDrive%20-%20Universit%C3%A9%20Laval/Cours%20laval/2.%20Ann%C3%A9e%202/H2023/travaux%20pratique%20optique/pandas_template_tpop/mito-starter-notebook.ipynb#W0sZmlsZQ%3D%3D?line=2'>3</a>\u001b[0m \u001b[39m# Join our Discord for support here: https://discord.com/invite/XdJSZyejJU\u001b[39;00m\n\u001b[0;32m      <a href='vscode-notebook-cell:/d%3A/drive/OneDrive%20-%20Universit%C3%A9%20Laval/Cours%20laval/2.%20Ann%C3%A9e%202/H2023/travaux%20pratique%20optique/pandas_template_tpop/mito-starter-notebook.ipynb#W0sZmlsZQ%3D%3D?line=4'>5</a>\u001b[0m \u001b[39mimport\u001b[39;00m \u001b[39mmitosheet\u001b[39;00m\n\u001b[1;32m----> <a href='vscode-notebook-cell:/d%3A/drive/OneDrive%20-%20Universit%C3%A9%20Laval/Cours%20laval/2.%20Ann%C3%A9e%202/H2023/travaux%20pratique%20optique/pandas_template_tpop/mito-starter-notebook.ipynb#W0sZmlsZQ%3D%3D?line=5'>6</a>\u001b[0m mitosheet\u001b[39m.\u001b[39;49msheet()\n",
      "File \u001b[1;32mc:\\Users\\Alexandre\\AppData\\Local\\Programs\\Python\\Python310\\lib\\site-packages\\mitosheet\\mito_backend.py:368\u001b[0m, in \u001b[0;36msheet\u001b[1;34m(analysis_to_replay, view_df, *args)\u001b[0m\n\u001b[0;32m    366\u001b[0m \u001b[39mif\u001b[39;00m is_in_vs_code() \u001b[39mor\u001b[39;00m is_in_google_colab():\n\u001b[0;32m    367\u001b[0m     log(\u001b[39m'\u001b[39m\u001b[39mmitosheet_sheet_call_location_failed\u001b[39m\u001b[39m'\u001b[39m, failed\u001b[39m=\u001b[39m\u001b[39mTrue\u001b[39;00m)\n\u001b[1;32m--> 368\u001b[0m     \u001b[39mraise\u001b[39;00m \u001b[39mException\u001b[39;00m(\u001b[39m\"\u001b[39m\u001b[39mThe mitosheet currently only works in JupyterLab.\u001b[39m\u001b[39m\\n\u001b[39;00m\u001b[39m\\n\u001b[39;00m\u001b[39mTo see instructions on getting Mitosheet running in JupyterLab, find install instructions here: https://docs.trymito.io/getting-started/installing-mito\u001b[39m\u001b[39m\"\u001b[39m)\n\u001b[0;32m    370\u001b[0m \u001b[39m# If the user.json does not exist, we create it. This ensures if the file is deleted in between\u001b[39;00m\n\u001b[0;32m    371\u001b[0m \u001b[39m# when the package is imported and mitosheet.sheet is called, the user still gets a user.json. \u001b[39;00m\n\u001b[0;32m    372\u001b[0m \u001b[39m# We don't need to upgrade as creating the file will automatically use the most recent version\u001b[39;00m\n\u001b[0;32m    373\u001b[0m \u001b[39mif\u001b[39;00m \u001b[39mnot\u001b[39;00m os\u001b[39m.\u001b[39mpath\u001b[39m.\u001b[39mexists(USER_JSON_PATH):\n",
      "\u001b[1;31mException\u001b[0m: The mitosheet currently only works in JupyterLab.\n\nTo see instructions on getting Mitosheet running in JupyterLab, find install instructions here: https://docs.trymito.io/getting-started/installing-mito"
     ]
    }
   ],
   "source": [
    "# Run this cell to render a mitosheet\n",
    "# See mito's documentation here: https://docs.trymito.io/how-to/creating-a-mitosheet\n",
    "# Join our Discord for support here: https://discord.com/invite/XdJSZyejJU\n",
    "\n",
    "import mitosheet\n",
    "mitosheet.sheet()"
   ]
  }
 ],
 "metadata": {
  "kernelspec": {
   "display_name": "Python 3 (ipykernel)",
   "language": "python",
   "name": "python3"
  },
  "language_info": {
   "codemirror_mode": {
    "name": "ipython",
    "version": 3
   },
   "file_extension": ".py",
   "mimetype": "text/x-python",
   "name": "python",
   "nbconvert_exporter": "python",
   "pygments_lexer": "ipython3",
   "version": "3.10.4"
  },
  "vscode": {
   "interpreter": {
    "hash": "25072da81dc57fa72136c82e6d19718a14c5723642e18451d5b885d66dc079e9"
   }
  },
  "widgets": {
   "application/vnd.jupyter.widget-state+json": {
    "state": {},
    "version_major": 2,
    "version_minor": 0
   }
  }
 },
 "nbformat": 4,
 "nbformat_minor": 5
}
